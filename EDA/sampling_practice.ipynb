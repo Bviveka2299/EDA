{
 "cells": [
  {
   "cell_type": "code",
   "execution_count": 1,
   "id": "8cebcd6f",
   "metadata": {},
   "outputs": [],
   "source": [
    "import pandas as pd\n",
    "import matplotlib.pyplot as plt\n",
    "import seaborn as sns"
   ]
  },
  {
   "cell_type": "code",
   "execution_count": 48,
   "id": "c3f9fd4f",
   "metadata": {},
   "outputs": [],
   "source": [
    "df=pd.read_csv(r\"C:\\Users\\Data_Science\\Practice_datasets\\diabetic_data.csv\")"
   ]
  },
  {
   "cell_type": "code",
   "execution_count": 5,
   "id": "95c81e03",
   "metadata": {},
   "outputs": [
    {
     "data": {
      "text/html": [
       "<div>\n",
       "<style scoped>\n",
       "    .dataframe tbody tr th:only-of-type {\n",
       "        vertical-align: middle;\n",
       "    }\n",
       "\n",
       "    .dataframe tbody tr th {\n",
       "        vertical-align: top;\n",
       "    }\n",
       "\n",
       "    .dataframe thead th {\n",
       "        text-align: right;\n",
       "    }\n",
       "</style>\n",
       "<table border=\"1\" class=\"dataframe\">\n",
       "  <thead>\n",
       "    <tr style=\"text-align: right;\">\n",
       "      <th></th>\n",
       "      <th>encounter_id</th>\n",
       "      <th>patient_nbr</th>\n",
       "      <th>race</th>\n",
       "      <th>gender</th>\n",
       "      <th>age</th>\n",
       "      <th>weight</th>\n",
       "      <th>admission_type_id</th>\n",
       "      <th>discharge_disposition_id</th>\n",
       "      <th>admission_source_id</th>\n",
       "      <th>time_in_hospital</th>\n",
       "      <th>...</th>\n",
       "      <th>citoglipton</th>\n",
       "      <th>insulin</th>\n",
       "      <th>glyburide-metformin</th>\n",
       "      <th>glipizide-metformin</th>\n",
       "      <th>glimepiride-pioglitazone</th>\n",
       "      <th>metformin-rosiglitazone</th>\n",
       "      <th>metformin-pioglitazone</th>\n",
       "      <th>change</th>\n",
       "      <th>diabetesMed</th>\n",
       "      <th>readmitted</th>\n",
       "    </tr>\n",
       "  </thead>\n",
       "  <tbody>\n",
       "    <tr>\n",
       "      <th>0</th>\n",
       "      <td>2278392</td>\n",
       "      <td>8222157</td>\n",
       "      <td>Caucasian</td>\n",
       "      <td>Female</td>\n",
       "      <td>[0-10)</td>\n",
       "      <td>?</td>\n",
       "      <td>6</td>\n",
       "      <td>25</td>\n",
       "      <td>1</td>\n",
       "      <td>1</td>\n",
       "      <td>...</td>\n",
       "      <td>No</td>\n",
       "      <td>No</td>\n",
       "      <td>No</td>\n",
       "      <td>No</td>\n",
       "      <td>No</td>\n",
       "      <td>No</td>\n",
       "      <td>No</td>\n",
       "      <td>No</td>\n",
       "      <td>No</td>\n",
       "      <td>NO</td>\n",
       "    </tr>\n",
       "    <tr>\n",
       "      <th>1</th>\n",
       "      <td>149190</td>\n",
       "      <td>55629189</td>\n",
       "      <td>Caucasian</td>\n",
       "      <td>Female</td>\n",
       "      <td>[10-20)</td>\n",
       "      <td>?</td>\n",
       "      <td>1</td>\n",
       "      <td>1</td>\n",
       "      <td>7</td>\n",
       "      <td>3</td>\n",
       "      <td>...</td>\n",
       "      <td>No</td>\n",
       "      <td>Up</td>\n",
       "      <td>No</td>\n",
       "      <td>No</td>\n",
       "      <td>No</td>\n",
       "      <td>No</td>\n",
       "      <td>No</td>\n",
       "      <td>Ch</td>\n",
       "      <td>Yes</td>\n",
       "      <td>&gt;30</td>\n",
       "    </tr>\n",
       "    <tr>\n",
       "      <th>2</th>\n",
       "      <td>64410</td>\n",
       "      <td>86047875</td>\n",
       "      <td>AfricanAmerican</td>\n",
       "      <td>Female</td>\n",
       "      <td>[20-30)</td>\n",
       "      <td>?</td>\n",
       "      <td>1</td>\n",
       "      <td>1</td>\n",
       "      <td>7</td>\n",
       "      <td>2</td>\n",
       "      <td>...</td>\n",
       "      <td>No</td>\n",
       "      <td>No</td>\n",
       "      <td>No</td>\n",
       "      <td>No</td>\n",
       "      <td>No</td>\n",
       "      <td>No</td>\n",
       "      <td>No</td>\n",
       "      <td>No</td>\n",
       "      <td>Yes</td>\n",
       "      <td>NO</td>\n",
       "    </tr>\n",
       "    <tr>\n",
       "      <th>3</th>\n",
       "      <td>500364</td>\n",
       "      <td>82442376</td>\n",
       "      <td>Caucasian</td>\n",
       "      <td>Male</td>\n",
       "      <td>[30-40)</td>\n",
       "      <td>?</td>\n",
       "      <td>1</td>\n",
       "      <td>1</td>\n",
       "      <td>7</td>\n",
       "      <td>2</td>\n",
       "      <td>...</td>\n",
       "      <td>No</td>\n",
       "      <td>Up</td>\n",
       "      <td>No</td>\n",
       "      <td>No</td>\n",
       "      <td>No</td>\n",
       "      <td>No</td>\n",
       "      <td>No</td>\n",
       "      <td>Ch</td>\n",
       "      <td>Yes</td>\n",
       "      <td>NO</td>\n",
       "    </tr>\n",
       "    <tr>\n",
       "      <th>4</th>\n",
       "      <td>16680</td>\n",
       "      <td>42519267</td>\n",
       "      <td>Caucasian</td>\n",
       "      <td>Male</td>\n",
       "      <td>[40-50)</td>\n",
       "      <td>?</td>\n",
       "      <td>1</td>\n",
       "      <td>1</td>\n",
       "      <td>7</td>\n",
       "      <td>1</td>\n",
       "      <td>...</td>\n",
       "      <td>No</td>\n",
       "      <td>Steady</td>\n",
       "      <td>No</td>\n",
       "      <td>No</td>\n",
       "      <td>No</td>\n",
       "      <td>No</td>\n",
       "      <td>No</td>\n",
       "      <td>Ch</td>\n",
       "      <td>Yes</td>\n",
       "      <td>NO</td>\n",
       "    </tr>\n",
       "  </tbody>\n",
       "</table>\n",
       "<p>5 rows × 50 columns</p>\n",
       "</div>"
      ],
      "text/plain": [
       "   encounter_id  patient_nbr             race  gender      age weight  \\\n",
       "0       2278392      8222157        Caucasian  Female   [0-10)      ?   \n",
       "1        149190     55629189        Caucasian  Female  [10-20)      ?   \n",
       "2         64410     86047875  AfricanAmerican  Female  [20-30)      ?   \n",
       "3        500364     82442376        Caucasian    Male  [30-40)      ?   \n",
       "4         16680     42519267        Caucasian    Male  [40-50)      ?   \n",
       "\n",
       "   admission_type_id  discharge_disposition_id  admission_source_id  \\\n",
       "0                  6                        25                    1   \n",
       "1                  1                         1                    7   \n",
       "2                  1                         1                    7   \n",
       "3                  1                         1                    7   \n",
       "4                  1                         1                    7   \n",
       "\n",
       "   time_in_hospital  ... citoglipton insulin  glyburide-metformin  \\\n",
       "0                 1  ...          No      No                   No   \n",
       "1                 3  ...          No      Up                   No   \n",
       "2                 2  ...          No      No                   No   \n",
       "3                 2  ...          No      Up                   No   \n",
       "4                 1  ...          No  Steady                   No   \n",
       "\n",
       "   glipizide-metformin  glimepiride-pioglitazone  metformin-rosiglitazone  \\\n",
       "0                   No                        No                       No   \n",
       "1                   No                        No                       No   \n",
       "2                   No                        No                       No   \n",
       "3                   No                        No                       No   \n",
       "4                   No                        No                       No   \n",
       "\n",
       "   metformin-pioglitazone  change diabetesMed readmitted  \n",
       "0                      No      No          No         NO  \n",
       "1                      No      Ch         Yes        >30  \n",
       "2                      No      No         Yes         NO  \n",
       "3                      No      Ch         Yes         NO  \n",
       "4                      No      Ch         Yes         NO  \n",
       "\n",
       "[5 rows x 50 columns]"
      ]
     },
     "execution_count": 5,
     "metadata": {},
     "output_type": "execute_result"
    }
   ],
   "source": [
    "df.head()"
   ]
  },
  {
   "cell_type": "code",
   "execution_count": 6,
   "id": "85305f72",
   "metadata": {},
   "outputs": [
    {
     "data": {
      "text/plain": [
       "Index(['encounter_id', 'patient_nbr', 'race', 'gender', 'age', 'weight',\n",
       "       'admission_type_id', 'discharge_disposition_id', 'admission_source_id',\n",
       "       'time_in_hospital', 'payer_code', 'medical_specialty',\n",
       "       'num_lab_procedures', 'num_procedures', 'num_medications',\n",
       "       'number_outpatient', 'number_emergency', 'number_inpatient', 'diag_1',\n",
       "       'diag_2', 'diag_3', 'number_diagnoses', 'max_glu_serum', 'A1Cresult',\n",
       "       'metformin', 'repaglinide', 'nateglinide', 'chlorpropamide',\n",
       "       'glimepiride', 'acetohexamide', 'glipizide', 'glyburide', 'tolbutamide',\n",
       "       'pioglitazone', 'rosiglitazone', 'acarbose', 'miglitol', 'troglitazone',\n",
       "       'tolazamide', 'examide', 'citoglipton', 'insulin',\n",
       "       'glyburide-metformin', 'glipizide-metformin',\n",
       "       'glimepiride-pioglitazone', 'metformin-rosiglitazone',\n",
       "       'metformin-pioglitazone', 'change', 'diabetesMed', 'readmitted'],\n",
       "      dtype='object')"
      ]
     },
     "execution_count": 6,
     "metadata": {},
     "output_type": "execute_result"
    }
   ],
   "source": [
    "df.columns"
   ]
  },
  {
   "cell_type": "code",
   "execution_count": 7,
   "id": "af71ee1b",
   "metadata": {},
   "outputs": [
    {
     "name": "stdout",
     "output_type": "stream",
     "text": [
      "<class 'pandas.core.frame.DataFrame'>\n",
      "RangeIndex: 101766 entries, 0 to 101765\n",
      "Data columns (total 50 columns):\n",
      " #   Column                    Non-Null Count   Dtype \n",
      "---  ------                    --------------   ----- \n",
      " 0   encounter_id              101766 non-null  int64 \n",
      " 1   patient_nbr               101766 non-null  int64 \n",
      " 2   race                      101766 non-null  object\n",
      " 3   gender                    101766 non-null  object\n",
      " 4   age                       101766 non-null  object\n",
      " 5   weight                    101766 non-null  object\n",
      " 6   admission_type_id         101766 non-null  int64 \n",
      " 7   discharge_disposition_id  101766 non-null  int64 \n",
      " 8   admission_source_id       101766 non-null  int64 \n",
      " 9   time_in_hospital          101766 non-null  int64 \n",
      " 10  payer_code                101766 non-null  object\n",
      " 11  medical_specialty         101766 non-null  object\n",
      " 12  num_lab_procedures        101766 non-null  int64 \n",
      " 13  num_procedures            101766 non-null  int64 \n",
      " 14  num_medications           101766 non-null  int64 \n",
      " 15  number_outpatient         101766 non-null  int64 \n",
      " 16  number_emergency          101766 non-null  int64 \n",
      " 17  number_inpatient          101766 non-null  int64 \n",
      " 18  diag_1                    101766 non-null  object\n",
      " 19  diag_2                    101766 non-null  object\n",
      " 20  diag_3                    101766 non-null  object\n",
      " 21  number_diagnoses          101766 non-null  int64 \n",
      " 22  max_glu_serum             5346 non-null    object\n",
      " 23  A1Cresult                 17018 non-null   object\n",
      " 24  metformin                 101766 non-null  object\n",
      " 25  repaglinide               101766 non-null  object\n",
      " 26  nateglinide               101766 non-null  object\n",
      " 27  chlorpropamide            101766 non-null  object\n",
      " 28  glimepiride               101766 non-null  object\n",
      " 29  acetohexamide             101766 non-null  object\n",
      " 30  glipizide                 101766 non-null  object\n",
      " 31  glyburide                 101766 non-null  object\n",
      " 32  tolbutamide               101766 non-null  object\n",
      " 33  pioglitazone              101766 non-null  object\n",
      " 34  rosiglitazone             101766 non-null  object\n",
      " 35  acarbose                  101766 non-null  object\n",
      " 36  miglitol                  101766 non-null  object\n",
      " 37  troglitazone              101766 non-null  object\n",
      " 38  tolazamide                101766 non-null  object\n",
      " 39  examide                   101766 non-null  object\n",
      " 40  citoglipton               101766 non-null  object\n",
      " 41  insulin                   101766 non-null  object\n",
      " 42  glyburide-metformin       101766 non-null  object\n",
      " 43  glipizide-metformin       101766 non-null  object\n",
      " 44  glimepiride-pioglitazone  101766 non-null  object\n",
      " 45  metformin-rosiglitazone   101766 non-null  object\n",
      " 46  metformin-pioglitazone    101766 non-null  object\n",
      " 47  change                    101766 non-null  object\n",
      " 48  diabetesMed               101766 non-null  object\n",
      " 49  readmitted                101766 non-null  object\n",
      "dtypes: int64(13), object(37)\n",
      "memory usage: 38.8+ MB\n"
     ]
    }
   ],
   "source": [
    "df.info()"
   ]
  },
  {
   "cell_type": "code",
   "execution_count": 8,
   "id": "7e0830c1",
   "metadata": {},
   "outputs": [
    {
     "data": {
      "text/plain": [
       "np.int64(101766)"
      ]
     },
     "execution_count": 8,
     "metadata": {},
     "output_type": "execute_result"
    }
   ],
   "source": [
    "df[\"readmitted\"].count()"
   ]
  },
  {
   "cell_type": "code",
   "execution_count": 10,
   "id": "c85d0d89",
   "metadata": {},
   "outputs": [
    {
     "data": {
      "text/plain": [
       "readmitted\n",
       "<30    11357\n",
       ">30    35545\n",
       "NO     54864\n",
       "Name: readmitted, dtype: int64"
      ]
     },
     "execution_count": 10,
     "metadata": {},
     "output_type": "execute_result"
    }
   ],
   "source": [
    "df.groupby(\"readmitted\")[\"readmitted\"].count()"
   ]
  },
  {
   "cell_type": "code",
   "execution_count": 11,
   "id": "525cb1af",
   "metadata": {},
   "outputs": [
    {
     "name": "stdout",
     "output_type": "stream",
     "text": [
      "Collecting imblearn\n",
      "  Downloading imblearn-0.0-py2.py3-none-any.whl.metadata (355 bytes)\n",
      "Collecting imbalanced-learn (from imblearn)\n",
      "  Downloading imbalanced_learn-0.14.0-py3-none-any.whl.metadata (8.8 kB)\n",
      "Requirement already satisfied: numpy<3,>=1.25.2 in c:\\users\\vivek\\anaconda3\\envs\\ce_env\\lib\\site-packages (from imbalanced-learn->imblearn) (2.3.4)\n",
      "Requirement already satisfied: scipy<2,>=1.11.4 in c:\\users\\vivek\\anaconda3\\envs\\ce_env\\lib\\site-packages (from imbalanced-learn->imblearn) (1.16.2)\n",
      "Requirement already satisfied: scikit-learn<2,>=1.4.2 in c:\\users\\vivek\\anaconda3\\envs\\ce_env\\lib\\site-packages (from imbalanced-learn->imblearn) (1.7.2)\n",
      "Requirement already satisfied: joblib<2,>=1.2.0 in c:\\users\\vivek\\anaconda3\\envs\\ce_env\\lib\\site-packages (from imbalanced-learn->imblearn) (1.5.2)\n",
      "Requirement already satisfied: threadpoolctl<4,>=2.0.0 in c:\\users\\vivek\\anaconda3\\envs\\ce_env\\lib\\site-packages (from imbalanced-learn->imblearn) (3.6.0)\n",
      "Downloading imblearn-0.0-py2.py3-none-any.whl (1.9 kB)\n",
      "Downloading imbalanced_learn-0.14.0-py3-none-any.whl (239 kB)\n",
      "Installing collected packages: imbalanced-learn, imblearn\n",
      "\n",
      "   ---------------------------------------- 0/2 [imbalanced-learn]\n",
      "   ---------------------------------------- 0/2 [imbalanced-learn]\n",
      "   ---------------------------------------- 0/2 [imbalanced-learn]\n",
      "   ---------------------------------------- 0/2 [imbalanced-learn]\n",
      "   ---------------------------------------- 0/2 [imbalanced-learn]\n",
      "   ---------------------------------------- 0/2 [imbalanced-learn]\n",
      "   ---------------------------------------- 0/2 [imbalanced-learn]\n",
      "   -------------------- ------------------- 1/2 [imblearn]\n",
      "   ---------------------------------------- 2/2 [imblearn]\n",
      "\n",
      "Successfully installed imbalanced-learn-0.14.0 imblearn-0.0\n"
     ]
    }
   ],
   "source": [
    "!pip install imblearn"
   ]
  },
  {
   "cell_type": "code",
   "execution_count": 12,
   "id": "a50fed4c",
   "metadata": {},
   "outputs": [],
   "source": [
    "from collections import Counter"
   ]
  },
  {
   "cell_type": "code",
   "execution_count": 13,
   "id": "de812ddb",
   "metadata": {},
   "outputs": [],
   "source": [
    "from imblearn.under_sampling import RandomUnderSampler\n",
    "from imblearn.over_sampling import RandomOverSampler, SMOTE, ADASYN"
   ]
  },
  {
   "cell_type": "code",
   "execution_count": 18,
   "id": "707b2f42",
   "metadata": {},
   "outputs": [],
   "source": [
    "X=df.drop(columns=[\"readmitted\", \"encounter_id\", \"patient_nbr\"], errors='ignore')"
   ]
  },
  {
   "cell_type": "code",
   "execution_count": 19,
   "id": "41c3ca58",
   "metadata": {},
   "outputs": [],
   "source": [
    "y=df[[\"readmitted\"]]"
   ]
  },
  {
   "cell_type": "code",
   "execution_count": 20,
   "id": "60fa6923",
   "metadata": {},
   "outputs": [],
   "source": [
    "X=pd.get_dummies(X)"
   ]
  },
  {
   "cell_type": "code",
   "execution_count": 23,
   "id": "5d3cc2c3",
   "metadata": {},
   "outputs": [
    {
     "name": "stdout",
     "output_type": "stream",
     "text": [
      "        admission_type_id  discharge_disposition_id  admission_source_id  \\\n",
      "0                       6                        25                    1   \n",
      "1                       1                         1                    7   \n",
      "2                       1                         1                    7   \n",
      "3                       1                         1                    7   \n",
      "4                       1                         1                    7   \n",
      "...                   ...                       ...                  ...   \n",
      "101761                  1                         3                    7   \n",
      "101762                  1                         4                    5   \n",
      "101763                  1                         1                    7   \n",
      "101764                  2                         3                    7   \n",
      "101765                  1                         1                    7   \n",
      "\n",
      "        time_in_hospital  num_lab_procedures  num_procedures  num_medications  \\\n",
      "0                      1                  41               0                1   \n",
      "1                      3                  59               0               18   \n",
      "2                      2                  11               5               13   \n",
      "3                      2                  44               1               16   \n",
      "4                      1                  51               0                8   \n",
      "...                  ...                 ...             ...              ...   \n",
      "101761                 3                  51               0               16   \n",
      "101762                 5                  33               3               18   \n",
      "101763                 1                  53               0                9   \n",
      "101764                10                  45               2               21   \n",
      "101765                 6                  13               3                3   \n",
      "\n",
      "        number_outpatient  number_emergency  number_inpatient  ...  \\\n",
      "0                       0                 0                 0  ...   \n",
      "1                       0                 0                 0  ...   \n",
      "2                       2                 0                 1  ...   \n",
      "3                       0                 0                 0  ...   \n",
      "4                       0                 0                 0  ...   \n",
      "...                   ...               ...               ...  ...   \n",
      "101761                  0                 0                 0  ...   \n",
      "101762                  0                 0                 1  ...   \n",
      "101763                  1                 0                 0  ...   \n",
      "101764                  0                 0                 1  ...   \n",
      "101765                  0                 0                 0  ...   \n",
      "\n",
      "        glimepiride-pioglitazone_No  glimepiride-pioglitazone_Steady  \\\n",
      "0                              True                            False   \n",
      "1                              True                            False   \n",
      "2                              True                            False   \n",
      "3                              True                            False   \n",
      "4                              True                            False   \n",
      "...                             ...                              ...   \n",
      "101761                         True                            False   \n",
      "101762                         True                            False   \n",
      "101763                         True                            False   \n",
      "101764                         True                            False   \n",
      "101765                         True                            False   \n",
      "\n",
      "        metformin-rosiglitazone_No  metformin-rosiglitazone_Steady  \\\n",
      "0                             True                           False   \n",
      "1                             True                           False   \n",
      "2                             True                           False   \n",
      "3                             True                           False   \n",
      "4                             True                           False   \n",
      "...                            ...                             ...   \n",
      "101761                        True                           False   \n",
      "101762                        True                           False   \n",
      "101763                        True                           False   \n",
      "101764                        True                           False   \n",
      "101765                        True                           False   \n",
      "\n",
      "        metformin-pioglitazone_No  metformin-pioglitazone_Steady  change_Ch  \\\n",
      "0                            True                          False      False   \n",
      "1                            True                          False       True   \n",
      "2                            True                          False      False   \n",
      "3                            True                          False       True   \n",
      "4                            True                          False       True   \n",
      "...                           ...                            ...        ...   \n",
      "101761                       True                          False       True   \n",
      "101762                       True                          False      False   \n",
      "101763                       True                          False       True   \n",
      "101764                       True                          False       True   \n",
      "101765                       True                          False      False   \n",
      "\n",
      "        change_No  diabetesMed_No  diabetesMed_Yes  \n",
      "0            True            True            False  \n",
      "1           False           False             True  \n",
      "2            True           False             True  \n",
      "3           False           False             True  \n",
      "4           False           False             True  \n",
      "...           ...             ...              ...  \n",
      "101761      False           False             True  \n",
      "101762       True           False             True  \n",
      "101763      False           False             True  \n",
      "101764      False           False             True  \n",
      "101765       True            True            False  \n",
      "\n",
      "[101766 rows x 2468 columns]\n"
     ]
    }
   ],
   "source": [
    "print(X)"
   ]
  },
  {
   "cell_type": "code",
   "execution_count": 24,
   "id": "f458b373",
   "metadata": {},
   "outputs": [
    {
     "name": "stdout",
     "output_type": "stream",
     "text": [
      "        admission_type_id  discharge_disposition_id  admission_source_id  \\\n",
      "0                       6                        25                    1   \n",
      "1                       1                         1                    7   \n",
      "2                       1                         1                    7   \n",
      "3                       1                         1                    7   \n",
      "4                       1                         1                    7   \n",
      "...                   ...                       ...                  ...   \n",
      "101761                  1                         3                    7   \n",
      "101762                  1                         4                    5   \n",
      "101763                  1                         1                    7   \n",
      "101764                  2                         3                    7   \n",
      "101765                  1                         1                    7   \n",
      "\n",
      "        time_in_hospital  num_lab_procedures  num_procedures  num_medications  \\\n",
      "0                      1                  41               0                1   \n",
      "1                      3                  59               0               18   \n",
      "2                      2                  11               5               13   \n",
      "3                      2                  44               1               16   \n",
      "4                      1                  51               0                8   \n",
      "...                  ...                 ...             ...              ...   \n",
      "101761                 3                  51               0               16   \n",
      "101762                 5                  33               3               18   \n",
      "101763                 1                  53               0                9   \n",
      "101764                10                  45               2               21   \n",
      "101765                 6                  13               3                3   \n",
      "\n",
      "        number_outpatient  number_emergency  number_inpatient  ...  \\\n",
      "0                       0                 0                 0  ...   \n",
      "1                       0                 0                 0  ...   \n",
      "2                       2                 0                 1  ...   \n",
      "3                       0                 0                 0  ...   \n",
      "4                       0                 0                 0  ...   \n",
      "...                   ...               ...               ...  ...   \n",
      "101761                  0                 0                 0  ...   \n",
      "101762                  0                 0                 1  ...   \n",
      "101763                  1                 0                 0  ...   \n",
      "101764                  0                 0                 1  ...   \n",
      "101765                  0                 0                 0  ...   \n",
      "\n",
      "        glimepiride-pioglitazone_No  glimepiride-pioglitazone_Steady  \\\n",
      "0                              True                            False   \n",
      "1                              True                            False   \n",
      "2                              True                            False   \n",
      "3                              True                            False   \n",
      "4                              True                            False   \n",
      "...                             ...                              ...   \n",
      "101761                         True                            False   \n",
      "101762                         True                            False   \n",
      "101763                         True                            False   \n",
      "101764                         True                            False   \n",
      "101765                         True                            False   \n",
      "\n",
      "        metformin-rosiglitazone_No  metformin-rosiglitazone_Steady  \\\n",
      "0                             True                           False   \n",
      "1                             True                           False   \n",
      "2                             True                           False   \n",
      "3                             True                           False   \n",
      "4                             True                           False   \n",
      "...                            ...                             ...   \n",
      "101761                        True                           False   \n",
      "101762                        True                           False   \n",
      "101763                        True                           False   \n",
      "101764                        True                           False   \n",
      "101765                        True                           False   \n",
      "\n",
      "        metformin-pioglitazone_No  metformin-pioglitazone_Steady  change_Ch  \\\n",
      "0                            True                          False      False   \n",
      "1                            True                          False       True   \n",
      "2                            True                          False      False   \n",
      "3                            True                          False       True   \n",
      "4                            True                          False       True   \n",
      "...                           ...                            ...        ...   \n",
      "101761                       True                          False       True   \n",
      "101762                       True                          False      False   \n",
      "101763                       True                          False       True   \n",
      "101764                       True                          False       True   \n",
      "101765                       True                          False      False   \n",
      "\n",
      "        change_No  diabetesMed_No  diabetesMed_Yes  \n",
      "0            True            True            False  \n",
      "1           False           False             True  \n",
      "2            True           False             True  \n",
      "3           False           False             True  \n",
      "4           False           False             True  \n",
      "...           ...             ...              ...  \n",
      "101761      False           False             True  \n",
      "101762       True           False             True  \n",
      "101763      False           False             True  \n",
      "101764      False           False             True  \n",
      "101765       True            True            False  \n",
      "\n",
      "[101766 rows x 2468 columns]\n"
     ]
    }
   ],
   "source": [
    "print(pd.get_dummies(X))"
   ]
  },
  {
   "cell_type": "code",
   "execution_count": 34,
   "id": "eab9b3c7",
   "metadata": {},
   "outputs": [],
   "source": [
    "data = {\n",
    "    'EmployeeID': [101, 102, 103, 104, 105],\n",
    "    'Name': ['Alice', 'Bob', 'Charlie', 'David', 'Evelyn'],\n",
    "    'Department': ['HR', 'IT', 'Finance', 'IT', 'HR'],\n",
    "    'Age': [25, 28, 35, 40, 30],\n",
    "    'Salary': [45000, 55000, 65000, 60000, 48000],\n",
    "    'Experience': [1, 3, 7, 10, 4]\n",
    "}"
   ]
  },
  {
   "cell_type": "code",
   "execution_count": 35,
   "id": "375f09da",
   "metadata": {},
   "outputs": [
    {
     "name": "stdout",
     "output_type": "stream",
     "text": [
      "   EmployeeID     Name Department  Age  Salary  Experience\n",
      "0         101    Alice         HR   25   45000           1\n",
      "1         102      Bob         IT   28   55000           3\n",
      "2         103  Charlie    Finance   35   65000           7\n",
      "3         104    David         IT   40   60000          10\n",
      "4         105   Evelyn         HR   30   48000           4\n"
     ]
    }
   ],
   "source": [
    "sample_data=pd.DataFrame(data)\n",
    "print(sample_data)"
   ]
  },
  {
   "cell_type": "code",
   "execution_count": 36,
   "id": "420f4931",
   "metadata": {},
   "outputs": [],
   "source": [
    "sample_data=pd.get_dummies(sample_data)"
   ]
  },
  {
   "cell_type": "code",
   "execution_count": 37,
   "id": "b87e25b9",
   "metadata": {},
   "outputs": [
    {
     "name": "stdout",
     "output_type": "stream",
     "text": [
      "   EmployeeID  Age  Salary  Experience  Name_Alice  Name_Bob  Name_Charlie  \\\n",
      "0         101   25   45000           1        True     False         False   \n",
      "1         102   28   55000           3       False      True         False   \n",
      "2         103   35   65000           7       False     False          True   \n",
      "3         104   40   60000          10       False     False         False   \n",
      "4         105   30   48000           4       False     False         False   \n",
      "\n",
      "   Name_David  Name_Evelyn  Department_Finance  Department_HR  Department_IT  \n",
      "0       False        False               False           True          False  \n",
      "1       False        False               False          False           True  \n",
      "2       False        False                True          False          False  \n",
      "3        True        False               False          False           True  \n",
      "4       False         True               False           True          False  \n"
     ]
    }
   ],
   "source": [
    "print(sample_data)"
   ]
  },
  {
   "cell_type": "code",
   "execution_count": 27,
   "id": "9be78274",
   "metadata": {},
   "outputs": [
    {
     "name": "stdout",
     "output_type": "stream",
     "text": [
      "Counter({'EmployeeID': 1, 'Name': 1, 'Department': 1, 'Age': 1, 'Salary': 1, 'Experience': 1})\n"
     ]
    }
   ],
   "source": [
    "print(Counter(sample_data))"
   ]
  },
  {
   "cell_type": "code",
   "execution_count": 28,
   "id": "4337bda0",
   "metadata": {},
   "outputs": [
    {
     "name": "stdout",
     "output_type": "stream",
     "text": [
      "Counter({'apple': 3, 'banana': 2, 'orange': 1})\n"
     ]
    }
   ],
   "source": [
    "from collections import Counter\n",
    "\n",
    "data = ['apple', 'banana', 'apple', 'orange', 'banana', 'apple']\n",
    "counts = Counter(data)\n",
    "print(counts)\n"
   ]
  },
  {
   "cell_type": "code",
   "execution_count": 30,
   "id": "86437e3e",
   "metadata": {},
   "outputs": [
    {
     "name": "stdout",
     "output_type": "stream",
     "text": [
      "Original Distribution: Counter({'NO': 54864, '>30': 35545, '<30': 11357})\n",
      "Under-Sampling distribution (not majority): Counter({'NO': 54864, '<30': 11357, '>30': 11357})\n",
      "Under-Sampling distribution (majority): Counter({'>30': 35545, '<30': 11357, 'NO': 11357})\n",
      "Under-Sampling distribution (all) Counter({'<30': 11357, '>30': 11357, 'NO': 11357})\n"
     ]
    }
   ],
   "source": [
    "X = df.drop(columns=['readmitted', 'encounter_id', 'patient_nbr'], errors='ignore')\n",
    "y = df['readmitted']\n",
    "\n",
    "X = pd.get_dummies(X)\n",
    "\n",
    "rus=RandomUnderSampler(sampling_strategy='not majority', random_state=1)\n",
    "rus_majority=RandomUnderSampler(sampling_strategy='majority', random_state=1)\n",
    "rus_all=RandomUnderSampler(sampling_strategy='all', random_state=1)\n",
    "\n",
    "X_rus, y_rus=rus.fit_resample(X, y)\n",
    "X_rus_maj, y_rus_maj=rus_majority.fit_resample(X, y)\n",
    "X_rus_all, y_rus_all=rus_all.fit_resample(X, y)\n",
    "\n",
    "print(\"Original Distribution:\", Counter(y))\n",
    "print(\"Under-Sampling distribution (not majority):\", Counter(y_rus))\n",
    "print(\"Under-Sampling distribution (majority):\", Counter(y_rus_maj))\n",
    "print(\"Under-Sampling distribution (all)\", Counter(y_rus_all))"
   ]
  },
  {
   "cell_type": "code",
   "execution_count": 38,
   "id": "80524b05",
   "metadata": {},
   "outputs": [
    {
     "name": "stdout",
     "output_type": "stream",
     "text": [
      "Original Distribution: Counter({'NO': 54864, '>30': 35545, '<30': 11357})\n",
      "Under-Sampling distribution (not majority): Counter({'NO': 54864, '<30': 11357, '>30': 11357})\n",
      "Under-Sampling distribution (majority): Counter({'>30': 35545, '<30': 11357, 'NO': 11357})\n",
      "Under-Sampling distribution (all) Counter({'<30': 11357, '>30': 11357, 'NO': 11357})\n"
     ]
    }
   ],
   "source": [
    "X = df.drop(columns=['readmitted', 'encounter_id', 'patient_nbr'], errors='ignore')\n",
    "y = df['readmitted']\n",
    "\n",
    "X = pd.get_dummies(X)\n",
    "\n",
    "rus=RandomUnderSampler(sampling_strategy='not majority', random_state=42)\n",
    "rus_majority=RandomUnderSampler(sampling_strategy='majority', random_state=42)\n",
    "rus_all=RandomUnderSampler(sampling_strategy='all', random_state=42)\n",
    "\n",
    "X_rus, y_rus=rus.fit_resample(X, y)\n",
    "X_rus_maj, y_rus_maj=rus_majority.fit_resample(X, y)\n",
    "X_rus_all, y_rus_all=rus_all.fit_resample(X, y)\n",
    "\n",
    "print(\"Original Distribution:\", Counter(y))\n",
    "print(\"Under-Sampling distribution (not majority):\", Counter(y_rus))\n",
    "print(\"Under-Sampling distribution (majority):\", Counter(y_rus_maj))\n",
    "print(\"Under-Sampling distribution (all)\", Counter(y_rus_all))"
   ]
  },
  {
   "cell_type": "code",
   "execution_count": 42,
   "id": "eb1ad11b",
   "metadata": {},
   "outputs": [
    {
     "data": {
      "text/plain": [
       "50"
      ]
     },
     "execution_count": 42,
     "metadata": {},
     "output_type": "execute_result"
    }
   ],
   "source": [
    "df.shape[1]"
   ]
  },
  {
   "cell_type": "code",
   "execution_count": 40,
   "id": "907562db",
   "metadata": {},
   "outputs": [],
   "source": [
    "df_string=df.select_dtypes(include=[\"object\"])"
   ]
  },
  {
   "cell_type": "code",
   "execution_count": 43,
   "id": "a4010cad",
   "metadata": {},
   "outputs": [
    {
     "data": {
      "text/plain": [
       "37"
      ]
     },
     "execution_count": 43,
     "metadata": {},
     "output_type": "execute_result"
    }
   ],
   "source": [
    "df_string.shape[1]"
   ]
  },
  {
   "cell_type": "code",
   "execution_count": 45,
   "id": "c52f1f6a",
   "metadata": {},
   "outputs": [
    {
     "data": {
      "text/plain": [
       "Index(['race', 'gender', 'age', 'weight', 'payer_code', 'medical_specialty',\n",
       "       'diag_1', 'diag_2', 'diag_3', 'max_glu_serum', 'A1Cresult', 'metformin',\n",
       "       'repaglinide', 'nateglinide', 'chlorpropamide', 'glimepiride',\n",
       "       'acetohexamide', 'glipizide', 'glyburide', 'tolbutamide',\n",
       "       'pioglitazone', 'rosiglitazone', 'acarbose', 'miglitol', 'troglitazone',\n",
       "       'tolazamide', 'examide', 'citoglipton', 'insulin',\n",
       "       'glyburide-metformin', 'glipizide-metformin',\n",
       "       'glimepiride-pioglitazone', 'metformin-rosiglitazone',\n",
       "       'metformin-pioglitazone', 'change', 'diabetesMed', 'readmitted'],\n",
       "      dtype='object')"
      ]
     },
     "execution_count": 45,
     "metadata": {},
     "output_type": "execute_result"
    }
   ],
   "source": [
    "df_string.columns"
   ]
  },
  {
   "cell_type": "code",
   "execution_count": 44,
   "id": "5b17953a",
   "metadata": {},
   "outputs": [],
   "source": [
    "def distinct_count(data, col):\n",
    "    return df.groupby(col)[col].count()"
   ]
  },
  {
   "cell_type": "code",
   "execution_count": 46,
   "id": "9b85c0c5",
   "metadata": {},
   "outputs": [],
   "source": [
    "val_count=distinct_count(df_string, \"race\")"
   ]
  },
  {
   "cell_type": "code",
   "execution_count": 47,
   "id": "f49c8c64",
   "metadata": {},
   "outputs": [
    {
     "name": "stdout",
     "output_type": "stream",
     "text": [
      "race\n",
      "?                   2273\n",
      "AfricanAmerican    19210\n",
      "Asian                641\n",
      "Caucasian          76099\n",
      "Hispanic            2037\n",
      "Other               1506\n",
      "Name: race, dtype: int64\n"
     ]
    }
   ],
   "source": [
    "print(val_count)"
   ]
  },
  {
   "cell_type": "code",
   "execution_count": 50,
   "id": "62939252",
   "metadata": {},
   "outputs": [],
   "source": [
    "X=df.drop(columns=['race', 'encounter_id', 'patient_nbr'], errors='ignore')\n",
    "y=df['race']"
   ]
  },
  {
   "cell_type": "code",
   "execution_count": 52,
   "id": "a4cc1db0",
   "metadata": {},
   "outputs": [
    {
     "name": "stdout",
     "output_type": "stream",
     "text": [
      "Original Distribution: Counter({'Caucasian': 76099, 'AfricanAmerican': 19210, '?': 2273, 'Hispanic': 2037, 'Other': 1506, 'Asian': 641})\n",
      "Random Under-Sampling (not majority): Counter({'Caucasian': 76099, '?': 641, 'AfricanAmerican': 641, 'Asian': 641, 'Hispanic': 641, 'Other': 641})\n",
      "Random Under-Sampling(majority): Counter({'AfricanAmerican': 19210, '?': 2273, 'Hispanic': 2037, 'Other': 1506, 'Asian': 641, 'Caucasian': 641})\n",
      "Random Under-Sampling(all) Counter({'?': 641, 'AfricanAmerican': 641, 'Asian': 641, 'Caucasian': 641, 'Hispanic': 641, 'Other': 641})\n"
     ]
    }
   ],
   "source": [
    "X=pd.get_dummies(X)\n",
    "\n",
    "rus=RandomUnderSampler(sampling_strategy='not majority', random_state=1)\n",
    "rus_majority=RandomUnderSampler(sampling_strategy='majority', random_state=1)\n",
    "rus_all=RandomUnderSampler(sampling_strategy='all', random_state=1)\n",
    "\n",
    "\n",
    "X_rus, y_rus=rus.fit_resample(X, y)\n",
    "X_rus_maj, y_rus_maj=rus_majority.fit_resample(X, y)\n",
    "X_rus_all, y_rus_all=rus_all.fit_resample(X, y)\n",
    "\n",
    "print(\"Original Distribution:\", Counter(y))\n",
    "print(\"Random Under-Sampling (not majority):\", Counter(y_rus))\n",
    "print(\"Random Under-Sampling(majority):\", Counter(y_rus_maj))\n",
    "print(\"Random Under-Sampling(all)\", Counter(y_rus_all))"
   ]
  },
  {
   "cell_type": "code",
   "execution_count": 69,
   "id": "59762b27",
   "metadata": {},
   "outputs": [],
   "source": [
    "def plot_class_distribution(y_old, y_new, title):\n",
    "    fig, (ax1, ax2)=plt.subplots(1, 2, figsize=(14, 6))\n",
    "    fig.suptitle(title, fontsize=16)\n",
    "\n",
    "    sns.countplot(x=y_old, ax=ax1)\n",
    "    ax1.set_title('Original Distribution')\n",
    "    ax1.set_xlabel('Race Category')\n",
    "    ax1.set_ylabel('count')\n",
    "    #ax1.set_xticks(ticks=[0, 1, 2, 3, 4, 5], labels=['Caucasian', 'AfricanAmerican', '?', 'Hispanic', 'Other', 'Asian'])\n",
    "\n",
    "    sns.countplot(x=y_new, ax=ax2)\n",
    "    ax2.set_title('Sampled Distribution')\n",
    "    ax2.set_xlabel('Race Category')\n",
    "    ax2.set_ylabel('count')\n",
    "    #ax2.set_xticks(ticks=[0, 1, 2, 3, 4, 5], labels=['Caucasian', 'AfricanAmerican', '?', 'Hispanic', 'Other', 'Asian'])\n",
    "\n",
    "    plt.tight_layout(rect=[0, 0, 1, 0.96])\n",
    "    plt.show()\n",
    "    "
   ]
  },
  {
   "cell_type": "code",
   "execution_count": 70,
   "id": "a483912f",
   "metadata": {},
   "outputs": [
    {
     "data": {
      "image/png": "[encoded data removed]",
      "text/plain": [
       "<Figure size 1400x600 with 2 Axes>"
      ]
     },
     "metadata": {},
     "output_type": "display_data"
    }
   ],
   "source": [
    "plot_class_distribution(y, y_rus_all, \"Random Under Sampling(all)\")"
   ]
  },
  {
   "cell_type": "code",
   "execution_count": 71,
   "id": "2a08e2b9",
   "metadata": {},
   "outputs": [
    {
     "name": "stdout",
     "output_type": "stream",
     "text": [
      "Original Distribution: Counter({'NO': 54864, '>30': 35545, '<30': 11357})\n",
      "Under-Sampling distribution (not majority): Counter({'NO': 54864, '<30': 11357, '>30': 11357})\n",
      "Under-Sampling distribution (majority): Counter({'>30': 35545, '<30': 11357, 'NO': 11357})\n",
      "Under-Sampling distribution (all) Counter({'<30': 11357, '>30': 11357, 'NO': 11357})\n"
     ]
    }
   ],
   "source": [
    "X = df.drop(columns=['readmitted', 'encounter_id', 'patient_nbr'], errors='ignore')\n",
    "y = df['readmitted']\n",
    "\n",
    "X = pd.get_dummies(X)\n",
    "\n",
    "rus=RandomUnderSampler(sampling_strategy='not majority', random_state=1)\n",
    "rus_majority=RandomUnderSampler(sampling_strategy='majority', random_state=1)\n",
    "rus_all=RandomUnderSampler(sampling_strategy='all', random_state=1)\n",
    "\n",
    "X_rus, y_rus=rus.fit_resample(X, y)\n",
    "X_rus_maj, y_rus_maj=rus_majority.fit_resample(X, y)\n",
    "X_rus_all, y_rus_all=rus_all.fit_resample(X, y)\n",
    "\n",
    "print(\"Original Distribution:\", Counter(y))\n",
    "print(\"Under-Sampling distribution (not majority):\", Counter(y_rus))\n",
    "print(\"Under-Sampling distribution (majority):\", Counter(y_rus_maj))\n",
    "print(\"Under-Sampling distribution (all)\", Counter(y_rus_all))"
   ]
  },
  {
   "cell_type": "code",
   "execution_count": null,
   "id": "1ab4ab5e",
   "metadata": {},
   "outputs": [],
   "source": [
    "ros=RandomOverSampler(sampling_strategy='not majority', random_state=42)\n",
    "X_ros, y_ros=ros.fit_resample(X, y)\n",
    "print(\"Original Distribution:\", Counter(y))\n",
    "print(\"Resampled Distribution(not majority)\", Counter(y_ros))\n",
    "\n",
    "plot_class_distribution(y, y_ros, \"Resampled Distribution(not majority)\")"
   ]
  }
 ],
 "metadata": {
  "kernelspec": {
   "display_name": "ce_env",
   "language": "python",
   "name": "python3"
  },
  "language_info": {
   "codemirror_mode": {
    "name": "ipython",
    "version": 3
   },
   "file_extension": ".py",
   "mimetype": "text/x-python",
   "name": "python",
   "nbconvert_exporter": "python",
   "pygments_lexer": "ipython3",
   "version": "3.12.12"
  }
 },
 "nbformat": 4,
 "nbformat_minor": 5
}
